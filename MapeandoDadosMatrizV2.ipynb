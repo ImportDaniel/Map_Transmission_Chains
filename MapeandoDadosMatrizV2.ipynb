{
 "cells": [
  {
   "cell_type": "code",
   "execution_count": 1,
   "id": "cbc3fc69-4bc9-4322-8374-e369f4ee8a43",
   "metadata": {},
   "outputs": [],
   "source": [
    "\n",
    "\n",
    "\"\"\"\n",
    "Objetivo: Mapear os dados de um arquivo csv que contem uma lista de nomes \n",
    "associados a valores númericos à uma matriz que tem nomes associados as colunas.\n",
    "\n",
    "Esse script feio e tosco, talvez funcione.\n",
    "Mas vai ser nescessário rodar o código 4 vezes, uma vez para cada \n",
    "dataset(4 ao todo), gerando 4 tabelas cada uma com os valores de rpm de um dataset,\n",
    "mapeado a sua respectiva familia. Depois é só juntar os dados das 4 tabelas em uma só\n",
    "\"\"\"\n",
    "\n",
    "import pandas as pd\n",
    "\n",
    "# Carregar os dados da tabela principal\n",
    "conjunto_dados = pd.read_csv(\"MetagBacFungi_V1_Metadados_TodasAmostrasBac.csv\")  # Substitua \"conjuntodados.csv\" pelo nome do seu arquivo\n",
    "# Carregar os dados da tabela secundária\n",
    "amostra1 = pd.read_csv(\"MetagBacFungi_V1_Metadados_Amostra1Bac.csv\")  # Substitua \"amostra1.csv\" pelo nome do seu arquivo\n",
    "\n",
    "# Remover o caractere \"\\xa0\" dos nomes das famílias na tabela secundária\n",
    "amostra1['family'] = amostra1['family'].str.replace('\\xa0', '')\n",
    "\n",
    "# Criar um dicionário para mapear as famílias de baterias e fungos para os valores de RPM\n",
    "mapeamento_rpm = dict(zip(amostra1['family'], amostra1['rpm']))\n",
    "\n",
    "# Iterar sobre as colunas da tabela principal (exceto a primeira)\n",
    "for coluna in conjunto_dados.columns[1:]:\n",
    "    nome_familia = coluna.replace('\\xa0', '')  # Remover o caractere \"\\xa0\" dos nomes das famílias na tabela principal\n",
    "    if nome_familia in mapeamento_rpm:\n",
    "        conjunto_dados.at[0, coluna] = mapeamento_rpm[nome_familia]\n",
    "    else:\n",
    "        conjunto_dados.at[0, coluna] = 0\n",
    "\n",
    "# Salvar o conjunto de dados atualizado\n",
    "conjunto_dados.to_csv(\"conjuntodados_atualizado1.csv\", index=False)  # Substitua \"conjuntodados_atualizado.csv\" pelo nome do arquivo de saída\n"
   ]
  }
 ],
 "metadata": {
  "kernelspec": {
   "display_name": "Python 3 (ipykernel)",
   "language": "python",
   "name": "python3"
  },
  "language_info": {
   "codemirror_mode": {
    "name": "ipython",
    "version": 3
   },
   "file_extension": ".py",
   "mimetype": "text/x-python",
   "name": "python",
   "nbconvert_exporter": "python",
   "pygments_lexer": "ipython3",
   "version": "3.10.9"
  }
 },
 "nbformat": 4,
 "nbformat_minor": 5
}
