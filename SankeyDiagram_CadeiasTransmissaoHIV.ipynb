{
 "cells": [
  {
   "cell_type": "code",
   "execution_count": null,
   "id": "e29489bb-43ba-40ef-901e-b1df6900c5ea",
   "metadata": {
    "tags": []
   },
   "outputs": [],
   "source": [
    "\"\"\"\n",
    "Objetivo: Gerar um diagrama de sankey a partir de dados epidemiológicos\n",
    "de fluxo de transmissão viral entre diferentes estados\n",
    "\"\"\""
   ]
  },
  {
   "cell_type": "code",
   "execution_count": null,
   "id": "ad0b319a-de7f-4fc0-b038-aed088550dc2",
   "metadata": {},
   "outputs": [],
   "source": [
    "import pandas as pd\n",
    "import matplotlib.pyplot as plt\n",
    "from pySankey.sankey import sankey"
   ]
  },
  {
   "cell_type": "code",
   "execution_count": null,
   "id": "a2adb3b8-aa39-425d-91c5-d496bb2ab21e",
   "metadata": {},
   "outputs": [],
   "source": [
    "#Importando dados do arquivo csv\n",
    "df = pd.read_csv(\"Seu_arquivo.csv\", sep=\";\")\n",
    "df.head()"
   ]
  },
  {
   "cell_type": "code",
   "execution_count": null,
   "id": "aeef5263-e07c-4c1f-8cfb-da68790594a9",
   "metadata": {},
   "outputs": [],
   "source": [
    "#Criando Sankey Diagram\n",
    "sankey(\n",
    "    left=df['Estado1'], right=df['Estado2'],\n",
    "    leftWeight=df[\"NMT\"], rightWeight=df[\"NMT\"],\n",
    "    aspect=20, fontsize=5, closePlot=False\n",
    ")"
   ]
  },
  {
   "cell_type": "code",
   "execution_count": null,
   "id": "f4b0f59e-19c8-4155-8ca2-7b05da52576e",
   "metadata": {},
   "outputs": [],
   "source": [
    "#Salvando a figura com matplotlib\n",
    "\n",
    "#Gerando o gráfico\n",
    "sankey(\n",
    "    left=df['Estado1'], right=df['Estado2'],\n",
    "    leftWeight= df['NMT'], rightWeight = df['NMT'],\n",
    "    aspect=20, fontsize=5\n",
    ")\n",
    "\n",
    "#Criando a figura\n",
    "fig = plt.gcf()\n",
    "\n",
    "#Ajustando o tamanho em polegadas\n",
    "fig.set_size_inches(6,6)\n",
    "\n",
    "#Ajustando a cor do fundo para branco\n",
    "fig.set_facecolor(\"w\")\n",
    "\n",
    "#Salvando a figura\n",
    "fig.savefig(\"SankeyTest.svg\", bbox_inches=\"tight\", dpi=150)"
   ]
  },
  {
   "cell_type": "code",
   "execution_count": null,
   "id": "fe003bb1-7c6c-43b6-bdaf-1878f947a22b",
   "metadata": {},
   "outputs": [],
   "source": []
  }
 ],
 "metadata": {
  "kernelspec": {
   "display_name": "Python 3 (ipykernel)",
   "language": "python",
   "name": "python3"
  },
  "language_info": {
   "codemirror_mode": {
    "name": "ipython",
    "version": 3
   },
   "file_extension": ".py",
   "mimetype": "text/x-python",
   "name": "python",
   "nbconvert_exporter": "python",
   "pygments_lexer": "ipython3",
   "version": "3.10.9"
  }
 },
 "nbformat": 4,
 "nbformat_minor": 5
}
