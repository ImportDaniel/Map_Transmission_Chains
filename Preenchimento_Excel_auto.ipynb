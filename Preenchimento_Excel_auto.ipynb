{
 "cells": [
  {
   "cell_type": "code",
   "execution_count": 1,
   "id": "346643a4-24b6-478a-a9d7-118d0cfeb31b",
   "metadata": {},
   "outputs": [],
   "source": [
    "import openpyxl\n",
    "\n",
    "# Abre o arquivo de coordenadas Excel\n",
    "coordenadas_workbook = openpyxl.load_workbook(\"Cordenadas_CapitaiS_V2.xlsx\")\n",
    "coordenadas_sheet = coordenadas_workbook.active\n",
    "\n",
    "# Abre o arquivo Excel existente\n",
    "workbook = openpyxl.load_workbook(\"Tabela_MapaCadeiasTransmissao_V7.xlsx\")\n",
    "\n",
    "# Itera sobre todas as planilhas\n",
    "for sheet_name in workbook.sheetnames:\n",
    "    sheet = workbook[sheet_name]\n",
    "\n",
    "    # Verifica cada linha na planilha\n",
    "    for row in range(2, sheet.max_row + 1):  # Começa da linha 2, presumindo que a linha 1 seja o cabeçalho\n",
    "        cidade = sheet.cell(row=row, column=1).value\n",
    "\n",
    "        # Encontra a linha correspondente na planilha de coordenadas\n",
    "        for coord_row in range(2, coordenadas_sheet.max_row + 1):\n",
    "            if coordenadas_sheet.cell(row=coord_row, column=1).value == cidade:\n",
    "                latitude = coordenadas_sheet.cell(row=coord_row, column=2).value\n",
    "                longitude = coordenadas_sheet.cell(row=coord_row, column=3).value\n",
    "\n",
    "                # Preenche as células de latitude e longitude\n",
    "                sheet.cell(row=row, column=2, value=latitude)\n",
    "                sheet.cell(row=row, column=3, value=longitude)\n",
    "                break  # Para de procurar após encontrar a correspondência\n",
    "\n",
    "# Salva as alterações no arquivo do Excel principal\n",
    "workbook.save(\"Tabela_MapaCadeiasTransmissao_V7.xlsx\")\n",
    "\n",
    "# Fecha ambos os arquivos do Excel\n",
    "workbook.close()\n",
    "coordenadas_workbook.close()\n"
   ]
  },
  {
   "cell_type": "code",
   "execution_count": null,
   "id": "be61d902-42b8-4a0e-b3df-dfb77e7889e6",
   "metadata": {},
   "outputs": [],
   "source": []
  }
 ],
 "metadata": {
  "kernelspec": {
   "display_name": "Python 3 (ipykernel)",
   "language": "python",
   "name": "python3"
  },
  "language_info": {
   "codemirror_mode": {
    "name": "ipython",
    "version": 3
   },
   "file_extension": ".py",
   "mimetype": "text/x-python",
   "name": "python",
   "nbconvert_exporter": "python",
   "pygments_lexer": "ipython3",
   "version": "3.10.9"
  }
 },
 "nbformat": 4,
 "nbformat_minor": 5
}
